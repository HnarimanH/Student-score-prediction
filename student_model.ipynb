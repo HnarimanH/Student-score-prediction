{
 "cells": [
  {
   "cell_type": "markdown",
   "metadata": {},
   "source": [
    "## Student preformance prediction"
   ]
  },
  {
   "cell_type": "markdown",
   "metadata": {},
   "source": [
    "### Importing necessary libraries"
   ]
  },
  {
   "cell_type": "code",
   "execution_count": 91,
   "metadata": {},
   "outputs": [],
   "source": [
    "import pandas as pd\n",
    "import matplotlib.pyplot as plt\n",
    "from sklearn.preprocessing import OneHotEncoder\n",
    "from sklearn.model_selection import train_test_split\n",
    "from sklearn.linear_model import LinearRegression\n",
    "from sklearn.metrics import mean_squared_error, r2_score, mean_absolute_error"
   ]
  },
  {
   "cell_type": "markdown",
   "metadata": {},
   "source": [
    "### Loading the Dataset"
   ]
  },
  {
   "cell_type": "code",
   "execution_count": null,
   "metadata": {},
   "outputs": [],
   "source": [
    "df = pd.read_csv(\"student_data.csv\")\n",
    "df"
   ]
  },
  {
   "cell_type": "markdown",
   "metadata": {},
   "source": [
    "### Removing Unnecessary Data"
   ]
  },
  {
   "cell_type": "code",
   "execution_count": null,
   "metadata": {},
   "outputs": [],
   "source": [
    "df = df.drop([\"id\",\"first_name\",\"last_name\",\"email\"], axis=1)\n",
    "df.info()"
   ]
  },
  {
   "cell_type": "markdown",
   "metadata": {},
   "source": [
    "### Changing (part_time_job , extracurricular_activities) to 1,0"
   ]
  },
  {
   "cell_type": "code",
   "execution_count": null,
   "metadata": {},
   "outputs": [],
   "source": [
    "df[\"part_time_job\"] = df[\"part_time_job\"].map({True: 1, False: 0})\n",
    "df[\"extracurricular_activities\"] = df[\"extracurricular_activities\"].map({True: 1, False: 0})\n",
    "df[\"gender\"] = df[\"gender\"].map({\"male\": 1, \"female\": 0})\n",
    "df"
   ]
  },
  {
   "cell_type": "markdown",
   "metadata": {},
   "source": [
    "### One Hot Encoding (career_aspiration)"
   ]
  },
  {
   "cell_type": "code",
   "execution_count": null,
   "metadata": {},
   "outputs": [],
   "source": [
    "ohe = OneHotEncoder(handle_unknown='ignore', sparse_output=False).set_output(transform='pandas')\n",
    "data = ohe.fit_transform((df[[\"career_aspiration\"]]))\n",
    "df = df.sort_values(by=[\"career_aspiration\"],ascending=1)\n",
    "df = pd.concat([df, data], axis=1 ).drop(columns=['career_aspiration'])\n",
    "df\n",
    "# this cell made the code 60% more acurate!"
   ]
  },
  {
   "cell_type": "markdown",
   "metadata": {},
   "source": [
    "### Converting students grades to GPA"
   ]
  },
  {
   "cell_type": "code",
   "execution_count": null,
   "metadata": {},
   "outputs": [],
   "source": [
    "df.info()"
   ]
  },
  {
   "cell_type": "code",
   "execution_count": 97,
   "metadata": {},
   "outputs": [],
   "source": [
    "\n",
    "math = df[\"math_score\"]\n",
    "history = df[\"history_score\"]\n",
    "physics = df[\"physics_score\"]\n",
    "chemistery = df[\"chemistry_score\"]\n",
    "biology = df[\"biology_score\"]\n",
    "english = df[\"english_score\"]\n",
    "geography = df[\"geography_score\"]\n",
    "GPA = []\n",
    "for i in range(0,2000):\n",
    "    average = (math[i]+history[i]+physics[i]+chemistery[i]+biology[i]+english[i]+geography[i]) / 7\n",
    "    GPA.append(round(average, 0))\n",
    "    average=0\n",
    "df[\"GPA\"] = GPA"
   ]
  },
  {
   "cell_type": "markdown",
   "metadata": {},
   "source": [
    "### Preparing for AI model"
   ]
  },
  {
   "cell_type": "code",
   "execution_count": null,
   "metadata": {},
   "outputs": [],
   "source": [
    "df.info()"
   ]
  },
  {
   "cell_type": "code",
   "execution_count": 99,
   "metadata": {},
   "outputs": [],
   "source": [
    "X = df.drop([\"GPA\",\"math_score\",\"history_score\",\"physics_score\",\"biology_score\",\"chemistry_score\",\"english_score\",\"geography_score\"],axis=1)\n",
    "Y = df.drop([\"part_time_job\",\"absence_days\",\"extracurricular_activities\",\"weekly_self_study_hours\"],axis=1)\n",
    "X_train,X_test,Y_train,Y_test = train_test_split(X,Y,test_size=0.2,random_state=45)"
   ]
  },
  {
   "cell_type": "markdown",
   "metadata": {},
   "source": [
    "### The AI Model"
   ]
  },
  {
   "cell_type": "code",
   "execution_count": 100,
   "metadata": {},
   "outputs": [],
   "source": [
    "model = LinearRegression()\n",
    "model.fit(X_train,Y_train)\n",
    "predicted_data = model.predict(X_test)"
   ]
  },
  {
   "cell_type": "markdown",
   "metadata": {},
   "source": [
    "### MAE,MSE,R2"
   ]
  },
  {
   "cell_type": "code",
   "execution_count": null,
   "metadata": {},
   "outputs": [],
   "source": [
    "MSE = round(mean_squared_error(Y_test,predicted_data))\n",
    "MAE = round(mean_absolute_error(Y_test,predicted_data))\n",
    "R2 = round(r2_score(Y_test,predicted_data) * 100)\n",
    "print(f\"MAE: {MAE}\")\n",
    "print(f\"MSE: {MSE}\")\n",
    "print(f\"R2: {R2}%\")"
   ]
  }
 ],
 "metadata": {
  "kernelspec": {
   "display_name": ".venv",
   "language": "python",
   "name": "python3"
  },
  "language_info": {
   "codemirror_mode": {
    "name": "ipython",
    "version": 3
   },
   "file_extension": ".py",
   "mimetype": "text/x-python",
   "name": "python",
   "nbconvert_exporter": "python",
   "pygments_lexer": "ipython3",
   "version": "3.12.6"
  }
 },
 "nbformat": 4,
 "nbformat_minor": 2
}
